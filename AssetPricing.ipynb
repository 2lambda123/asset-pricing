{
 "cells": [
  {
   "cell_type": "markdown",
   "metadata": {},
   "source": [
    "Load libraries."
   ]
  },
  {
   "cell_type": "code",
   "execution_count": 1,
   "metadata": {},
   "outputs": [],
   "source": [
    "import pandas as pd\n",
    "import pandas_datareader as pdr\n",
    "from pandas_datareader import data\n",
    "import statsmodels.formula.api as sm"
   ]
  },
  {
   "cell_type": "markdown",
   "metadata": {},
   "source": [
    "Define ticker of interest."
   ]
  },
  {
   "cell_type": "code",
   "execution_count": 2,
   "metadata": {},
   "outputs": [],
   "source": [
    "ticker = 'AAPL'"
   ]
  },
  {
   "cell_type": "markdown",
   "metadata": {},
   "source": [
    "Load historical data."
   ]
  },
  {
   "cell_type": "code",
   "execution_count": 3,
   "metadata": {},
   "outputs": [],
   "source": [
    "tickerFile = ticker + '.csv'\n",
    "data = pd.read_csv(tickerFile, parse_dates=['Date'])\n",
    "data = data.sort_values(by='Date')\n",
    "data.set_index('Date', inplace=True)\n",
    "\n",
    "data['Returns'] = data['Adj Close'].pct_change()  # Create daily returns column\n",
    "returns = data['Returns'].dropna()  # Remove values of N/A"
   ]
  },
  {
   "cell_type": "markdown",
   "metadata": {},
   "source": [
    "Load Fama-French data."
   ]
  },
  {
   "cell_type": "code",
   "execution_count": 4,
   "metadata": {},
   "outputs": [],
   "source": [
    "factors = pdr.DataReader(name='F-F_Research_Data_5_Factors_2x3_Daily',\n",
    "                         data_source='famafrench')[0]"
   ]
  },
  {
   "cell_type": "markdown",
   "metadata": {},
   "source": [
    "Reformat source data."
   ]
  },
  {
   "cell_type": "code",
   "execution_count": 5,
   "metadata": {},
   "outputs": [],
   "source": [
    "factors.rename(columns={'Mkt-RF': 'MKT'}, inplace=True)\n",
    "factors['MKT'] = factors['MKT'] / 100\n",
    "factors['SMB'] = factors['SMB'] / 100\n",
    "factors['HML'] = factors['HML'] / 100\n",
    "factors['RMW'] = factors['RMW'] / 100\n",
    "factors['CMA'] = factors['CMA'] / 100"
   ]
  },
  {
   "cell_type": "markdown",
   "metadata": {},
   "source": [
    "Add Fama-French factor data to historical stock data"
   ]
  },
  {
   "cell_type": "code",
   "execution_count": 6,
   "metadata": {},
   "outputs": [],
   "source": [
    "stock_factor_mat = pd.merge(data,\n",
    "                            factors,\n",
    "                            left_index=True,\n",
    "                            right_index=True)  # Merging the stock and factor returns dataframes together\n",
    "stock_factor_mat['XsRet'] = (stock_factor_mat['Returns']\n",
    "                             - stock_factor_mat['RF'])  # Calculating excess returns"
   ]
  },
  {
   "cell_type": "markdown",
   "metadata": {},
   "source": [
    "Fit Fama-French data to asset pricing model"
   ]
  },
  {
   "cell_type": "code",
   "execution_count": 7,
   "metadata": {},
   "outputs": [],
   "source": [
    "CAPM = sm.ols(formula='XsRet ~ MKT',\n",
    "              data=stock_factor_mat).fit()\n",
    "\n",
    "FF3 = sm.ols(formula='XsRet ~ MKT + SMB + HML',\n",
    "             data=stock_factor_mat).fit()\n",
    "\n",
    "FF5 = sm.ols(formula='XsRet ~ MKT + SMB + HML + RMW + CMA',\n",
    "             data=stock_factor_mat).fit()"
   ]
  },
  {
   "cell_type": "markdown",
   "metadata": {},
   "source": [
    "Determine t-values and coefficients for asset pricing models"
   ]
  },
  {
   "cell_type": "code",
   "execution_count": 8,
   "metadata": {},
   "outputs": [],
   "source": [
    "CAPM_tstat = CAPM.tvalues\n",
    "FF3_tstat = FF3.tvalues\n",
    "FF5_tstat = FF5.tvalues\n",
    "\n",
    "CAPM_coeff = CAPM.params\n",
    "FF3_coeff = FF3.params\n",
    "FF5_coeff = FF5.params"
   ]
  },
  {
   "cell_type": "markdown",
   "metadata": {},
   "source": [
    "Consolidate asset pricing model results in a single DataFrame"
   ]
  },
  {
   "cell_type": "code",
   "execution_count": 9,
   "metadata": {},
   "outputs": [],
   "source": [
    "results = pd.DataFrame({'CAPM_coeff': CAPM_coeff,\n",
    "                        'CAPM_tstat': CAPM_tstat,\n",
    "                        'FF3_coeff': FF3_coeff,\n",
    "                        'FF3_tstat': FF3_tstat,\n",
    "                        'FF5_coeff': FF5_coeff,\n",
    "                        'FF5_tstat': FF5_tstat},\n",
    "                       index=['Intercept', 'MKT', 'SMB', 'HML', 'RMW', 'CMA'])"
   ]
  },
  {
   "cell_type": "markdown",
   "metadata": {},
   "source": [
    "View asset pricing model data"
   ]
  },
  {
   "cell_type": "code",
   "execution_count": 10,
   "metadata": {},
   "outputs": [
    {
     "name": "stdout",
     "output_type": "stream",
     "text": [
      "           CAPM_coeff  CAPM_tstat  FF3_coeff  FF3_tstat  FF5_coeff  FF5_tstat\n",
      "Intercept   -0.003684  -10.847788  -0.003765 -11.404335  -0.003801 -11.904769\n",
      "MKT          1.209397   30.828436   1.198640  30.945961   1.126850  28.314818\n",
      "SMB               NaN         NaN  -0.222737  -3.371747  -0.158997  -2.451211\n",
      "HML               NaN         NaN  -0.454974  -7.611174  -0.091410  -1.252964\n",
      "RMW               NaN         NaN        NaN        NaN   0.444319   4.570598\n",
      "CMA               NaN         NaN        NaN        NaN  -1.026216  -8.283938\n"
     ]
    }
   ],
   "source": [
    "print(results)"
   ]
  }
 ],
 "metadata": {
  "kernelspec": {
   "display_name": "Python 3",
   "language": "python",
   "name": "python3"
  },
  "language_info": {
   "codemirror_mode": {
    "name": "ipython",
    "version": 3
   },
   "file_extension": ".py",
   "mimetype": "text/x-python",
   "name": "python",
   "nbconvert_exporter": "python",
   "pygments_lexer": "ipython3",
   "version": "3.7.4"
  }
 },
 "nbformat": 4,
 "nbformat_minor": 2
}
